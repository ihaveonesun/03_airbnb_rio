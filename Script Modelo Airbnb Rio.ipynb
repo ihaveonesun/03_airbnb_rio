{
 "cells": [
  {
   "cell_type": "markdown",
   "id": "d43a469d",
   "metadata": {},
   "source": [
    "# Projeto Airbnb Rio - Ferramenta de Previsão de Preço de Imóvel para pessoas comuns"
   ]
  },
  {
   "cell_type": "markdown",
   "id": "743749d8",
   "metadata": {},
   "source": [
    "### Importando Bibliotecas e Base de Dados"
   ]
  },
  {
   "cell_type": "code",
   "execution_count": null,
   "id": "a050a62f",
   "metadata": {},
   "outputs": [],
   "source": [
    "import pandas as pd\n",
    "import pathlib\n",
    "import numpy as np\n",
    "import seaborn as sns\n",
    "import matplotlib.pyplot as plt\n",
    "import plotly.express as px\n",
    "from sklearn.metrics import r2_score, mean_squared_error\n",
    "from sklearn.linear_model import LinearRegression\n",
    "from sklearn.ensemble import RandomForestRegressor, ExtraTreesRegressor\n",
    "from sklearn.model_selection import train_test_split"
   ]
  },
  {
   "cell_type": "code",
   "execution_count": null,
   "id": "f113cfdc",
   "metadata": {},
   "outputs": [],
   "source": [
    "meses = {'jan':1, 'fev':2, 'mar':3, 'abr':4, 'mai':5, 'jun':6, 'jul':7, 'ago':8, 'set':9, 'out':10, 'nov':11, 'dez':12}\n",
    "\n",
    "caminho_dados = pathlib.Path('dataset')\n",
    "\n",
    "dados_airbnb = pd.DataFrame()\n",
    "\n",
    "for arquivo in caminho_dados.iterdir():\n",
    "    nome_mes = arquivo.name[:3]\n",
    "    mes = meses[nome_mes]\n",
    "    \n",
    "    ano = arquivo.name[-8:]\n",
    "    ano = int(ano.replace('.csv', ''))\n",
    "    \n",
    "    df = pd.read_csv(caminho_dados / arquivo.name)\n",
    "    df['ano'] = ano\n",
    "    df['mes'] = mes\n",
    "    dados_airbnb = dados_airbnb.append(df)"
   ]
  },
  {
   "cell_type": "markdown",
   "id": "120c31f3",
   "metadata": {},
   "source": [
    "### Consolidar Base de Dados\n",
    "* Como há muitas colunas, o modelo pode acavar ficando lento em demasia.\n",
    "* Uma análise rápida constata que, várias colunas podem não ser necessárias para o modelo de previsão. Por isso será excluída algumas colunas.\n",
    "* Tipos de colunas consideradas para exclusão:\n",
    "    1. IDs, Links e informações não relevantes para o modelo\n",
    "    2. Colunas repetidas ou extremamente parecidas com outra, que oferecem a mesma informação para o modelo. Ex: Data x Ano/Mês\n",
    "    3. Coluna preenchidas com texto livre. Afinal, não será rodada nenhuma análise de palavras ou algo similar.\n",
    "    4. Colunas que todos, ou quase todos, os valores sejam iguais."
   ]
  },
  {
   "cell_type": "markdown",
   "id": "d7594c9f",
   "metadata": {},
   "source": [
    "### Após a análise qualitativa, considerando os critérios explicados acima, permanecem as seguintes colunas:"
   ]
  },
  {
   "cell_type": "code",
   "execution_count": null,
   "id": "66bccd89",
   "metadata": {},
   "outputs": [],
   "source": [
    "colunas = ['host_response_time','host_response_rate','host_is_superhost','host_listings_count','latitude','longitude',\\\n",
    "           'property_type','room_type','accommodates','bathrooms','bedrooms','beds','bed_type','amenities','price',\\\n",
    "           'security_deposit','cleaning_fee','guests_included','extra_people','minimum_nights','maximum_nights',\\\n",
    "           'number_of_reviews','review_scores_rating','review_scores_accuracy','review_scores_cleanliness',\\\n",
    "           'review_scores_checkin','review_scores_communication','review_scores_location','review_scores_value',\\\n",
    "           'instant_bookable','cancellation_policy','ano','mes']\n",
    "\n",
    "dados_airbnb = dados_airbnb.loc[:, colunas]"
   ]
  },
  {
   "cell_type": "markdown",
   "id": "8dba0e7f",
   "metadata": {},
   "source": [
    "### Tratando valores faltantes\n",
    "* Colunas com mais de 300.000 valres NaN foram excluídas da análise\n",
    "* Para as demais colunas, como há muitos dados (mais de 900.000 linhas), foram excluídas as linhas que contém valores NaN."
   ]
  },
  {
   "cell_type": "code",
   "execution_count": null,
   "id": "fad10b17",
   "metadata": {},
   "outputs": [],
   "source": [
    "for coluna in dados_airbnb:\n",
    "    if dados_airbnb[coluna].isnull().sum() > 300000:\n",
    "        dados_airbnb = dados_airbnb.drop(coluna, axis = 1)\n",
    "\n",
    "dados_airbnb = dados_airbnb.dropna()\n",
    "\n",
    "print(dados_airbnb.shape)\n",
    "print(dados_airbnb.isnull().sum())"
   ]
  },
  {
   "cell_type": "markdown",
   "id": "1817ad39",
   "metadata": {},
   "source": [
    "### Verificar o tipo de dados em cada coluna"
   ]
  },
  {
   "cell_type": "code",
   "execution_count": null,
   "id": "10cd61a9",
   "metadata": {},
   "outputs": [],
   "source": [
    "print(dados_airbnb.dtypes)\n",
    "print('-' * 60)\n",
    "print(dados_airbnb.iloc[0])"
   ]
  },
  {
   "cell_type": "markdown",
   "id": "941e6475",
   "metadata": {},
   "source": [
    "### Alterar as colunas preco e extra_people de object para float"
   ]
  },
  {
   "cell_type": "code",
   "execution_count": null,
   "id": "bc0c585f",
   "metadata": {},
   "outputs": [],
   "source": [
    "dados_airbnb['price'] = dados_airbnb['price'].str.replace('$', '')\n",
    "dados_airbnb['price'] = dados_airbnb['price'].str.replace(',', '')\n",
    "dados_airbnb['price'] = dados_airbnb['price'].astype(np.float32, copy = False)\n",
    "\n",
    "dados_airbnb['extra_people'] = dados_airbnb['extra_people'].str.replace('$', '')\n",
    "dados_airbnb['extra_people'] = dados_airbnb['extra_people'].str.replace(',', '')\n",
    "dados_airbnb['extra_people'] = dados_airbnb['extra_people'].astype(np.float32, copy = False)"
   ]
  },
  {
   "cell_type": "markdown",
   "id": "e7b48ffc",
   "metadata": {},
   "source": [
    "## Análise Exploratória e Tratar Outliers"
   ]
  },
  {
   "cell_type": "markdown",
   "id": "a4de249a",
   "metadata": {},
   "source": [
    "* Observar cada feature para:\n",
    " 1. Ver a correlação entre as features e decidir em manter as atuais features\n",
    " 2. Excluir outliers (usando como regra, valores abaixo de Q1 - 1.5x Amplitude e valores acima de Q3 + 1.5x Amplitude). Sendo que amplitude = Q3 - Q1\n",
    " 3. Confirmar se todas as features que fazem realmente sentido  ao modelo ou se deve excluir."
   ]
  },
  {
   "cell_type": "code",
   "execution_count": null,
   "id": "871de26b",
   "metadata": {},
   "outputs": [],
   "source": [
    "plt.figure(figsize = (15, 10))\n",
    "sns.heatmap(dados_airbnb.corr(), annot = True, cmap = 'Blues')"
   ]
  },
  {
   "cell_type": "markdown",
   "id": "a5e66e2d",
   "metadata": {},
   "source": [
    "#### Definindo funções para análise de Outliers"
   ]
  },
  {
   "cell_type": "code",
   "execution_count": null,
   "id": "0c75fe33",
   "metadata": {},
   "outputs": [],
   "source": [
    "def limites(coluna):\n",
    "    q1 = coluna.quantile(0.25)\n",
    "    q3 = coluna.quantile(0.75)\n",
    "    amplitude = q3 - q1\n",
    "    return q1 - 1.5 * amplitude, q3 + 1.5 * amplitude\n",
    "\n",
    "def excluir_outliers(df, nome_coluna):\n",
    "    qtde_linhas = df.shape[0]\n",
    "    limite_inferior, limite_superior = limites(df[nome_coluna])\n",
    "    df = df.loc[(df[nome_coluna] >= limite_inferior) & (df[nome_coluna] <= limite_superior),:]\n",
    "    linhas_removidas = qtde_linhas - df.shape[0]\n",
    "    return df, linhas_removidas"
   ]
  },
  {
   "cell_type": "code",
   "execution_count": null,
   "id": "a1d7d081",
   "metadata": {},
   "outputs": [],
   "source": [
    "def diagrama_caixa(coluna):\n",
    "    fig, (ax1, ax2) = plt.subplots(1, 2)\n",
    "    fig.set_size_inches(15, 5)\n",
    "    sns.boxplot(x = coluna, ax = ax1)\n",
    "    ax2.set_xlim(limites(coluna))\n",
    "    sns.boxplot(x = coluna, ax = ax2)\n",
    "    \n",
    "def histograma(coluna):\n",
    "    plt.figure(figsize = (15, 5))\n",
    "    sns.distplot(coluna, hist = True)\n",
    "    \n",
    "def grafico_barra(coluna):\n",
    "    plt.figure(figsize = (15, 5))\n",
    "    ax = sns.barplot(x = coluna.value_counts().index, y = coluna.value_counts())\n",
    "    ax.set_xlim(limites(coluna))"
   ]
  },
  {
   "cell_type": "markdown",
   "id": "d4cba316",
   "metadata": {},
   "source": [
    "#### Colunas"
   ]
  },
  {
   "cell_type": "markdown",
   "id": "9ecdb5f7",
   "metadata": {},
   "source": [
    "##### price"
   ]
  },
  {
   "cell_type": "code",
   "execution_count": null,
   "id": "62d238f5",
   "metadata": {},
   "outputs": [],
   "source": [
    "diagrama_caixa(dados_airbnb['price'])\n",
    "histograma(dados_airbnb['price'])"
   ]
  },
  {
   "cell_type": "markdown",
   "id": "ab7033f6",
   "metadata": {},
   "source": [
    "Por estar sendo elaborado um modelo para imóveis comuns, acredito que os valores acima do limite superior serão apenas de apartamentos de altíssimo luxo. O que não é o objetivo principal. Por isso, optarei por excluir esses outliers."
   ]
  },
  {
   "cell_type": "code",
   "execution_count": null,
   "id": "dc959b96",
   "metadata": {},
   "outputs": [],
   "source": [
    "dados_airbnb, linhas_removidas = excluir_outliers(dados_airbnb, 'price')\n",
    "print('{} linhas removidas'.format(linhas_removidas))"
   ]
  },
  {
   "cell_type": "code",
   "execution_count": null,
   "id": "924bf6eb",
   "metadata": {},
   "outputs": [],
   "source": [
    "histograma(dados_airbnb['price'])\n",
    "print(dados_airbnb.shape)"
   ]
  },
  {
   "cell_type": "markdown",
   "id": "b4776a2f",
   "metadata": {},
   "source": [
    "#### extra_people"
   ]
  },
  {
   "cell_type": "code",
   "execution_count": null,
   "id": "b7fc727f",
   "metadata": {},
   "outputs": [],
   "source": [
    "diagrama_caixa(dados_airbnb['extra_people'])\n",
    "histograma(dados_airbnb['extra_people'])"
   ]
  },
  {
   "cell_type": "code",
   "execution_count": null,
   "id": "014d1192",
   "metadata": {},
   "outputs": [],
   "source": [
    "dados_airbnb, linhas_removidas = excluir_outliers(dados_airbnb, 'extra_people')\n",
    "print('{} linhas removidas'.format(linhas_removidas))"
   ]
  },
  {
   "cell_type": "markdown",
   "id": "a871653e",
   "metadata": {},
   "source": [
    "#### host_listings_count"
   ]
  },
  {
   "cell_type": "code",
   "execution_count": null,
   "id": "9d6e3361",
   "metadata": {},
   "outputs": [],
   "source": [
    "diagrama_caixa(dados_airbnb['host_listings_count'])\n",
    "grafico_barra(dados_airbnb['host_listings_count'])"
   ]
  },
  {
   "cell_type": "markdown",
   "id": "298f8157",
   "metadata": {},
   "source": [
    "Excluirei esses outliers porquê, para o objetivo deste modelo, hosts com mais de seis imóveis no Airbnb, não são o público alvo do objetivo (podem ser imobiliários ou profissionais que ferenciam imóveis no Airbnb, por exemplo)."
   ]
  },
  {
   "cell_type": "code",
   "execution_count": null,
   "id": "17b3f329",
   "metadata": {},
   "outputs": [],
   "source": [
    "dados_airbnb, linhas_removidas = excluir_outliers(dados_airbnb, 'host_listings_count')\n",
    "print('{} linhas removidas'.format(linhas_removidas))"
   ]
  },
  {
   "cell_type": "markdown",
   "id": "a69d3e43",
   "metadata": {},
   "source": [
    "#### accommodates"
   ]
  },
  {
   "cell_type": "code",
   "execution_count": null,
   "id": "def314ed",
   "metadata": {},
   "outputs": [],
   "source": [
    "diagrama_caixa(dados_airbnb['accommodates'])\n",
    "grafico_barra(dados_airbnb['accommodates'])"
   ]
  },
  {
   "cell_type": "code",
   "execution_count": null,
   "id": "88b7e2f1",
   "metadata": {},
   "outputs": [],
   "source": [
    "dados_airbnb, linhas_removidas = excluir_outliers(dados_airbnb, 'accommodates')\n",
    "print('{} linhas removidas'.format(linhas_removidas))"
   ]
  },
  {
   "cell_type": "markdown",
   "id": "bf1256a5",
   "metadata": {},
   "source": [
    "#### bathrooms"
   ]
  },
  {
   "cell_type": "code",
   "execution_count": null,
   "id": "41d42fea",
   "metadata": {},
   "outputs": [],
   "source": [
    "diagrama_caixa(dados_airbnb['bathrooms'])\n",
    "plt.figure(figsize = (15, 5))\n",
    "sns.barplot(x = dados_airbnb['bathrooms'].value_counts().index, y = dados_airbnb['bathrooms'].value_counts())"
   ]
  },
  {
   "cell_type": "code",
   "execution_count": null,
   "id": "f5a72c63",
   "metadata": {},
   "outputs": [],
   "source": [
    "dados_airbnb, linhas_removidas = excluir_outliers(dados_airbnb, 'bathrooms')\n",
    "print('{} linhas removidas'. format(linhas_removidas))"
   ]
  },
  {
   "cell_type": "markdown",
   "id": "2d8767f5",
   "metadata": {},
   "source": [
    "#### bedrooms"
   ]
  },
  {
   "cell_type": "code",
   "execution_count": null,
   "id": "78b5a3ca",
   "metadata": {},
   "outputs": [],
   "source": [
    "diagrama_caixa(dados_airbnb['bedrooms'])\n",
    "grafico_barra(dados_airbnb['bedrooms'])"
   ]
  },
  {
   "cell_type": "code",
   "execution_count": null,
   "id": "2e02c7ba",
   "metadata": {},
   "outputs": [],
   "source": [
    "dados_airbnb, linhas_removidas = excluir_outliers(dados_airbnb, 'bedrooms')\n",
    "print('{} linhas removidas'.format(linhas_removidas))"
   ]
  },
  {
   "cell_type": "markdown",
   "id": "eb59f1ca",
   "metadata": {},
   "source": [
    "#### beds"
   ]
  },
  {
   "cell_type": "code",
   "execution_count": null,
   "id": "7bae8437",
   "metadata": {},
   "outputs": [],
   "source": [
    "diagrama_caixa(dados_airbnb['beds'])\n",
    "grafico_barra(dados_airbnb['beds'])"
   ]
  },
  {
   "cell_type": "code",
   "execution_count": null,
   "id": "ffc94fbe",
   "metadata": {},
   "outputs": [],
   "source": [
    "dados_airbnb, linhas_removidas = excluir_outliers(dados_airbnb, 'beds')\n",
    "print('{} linhas removidas'.format(linhas_removidas))"
   ]
  },
  {
   "cell_type": "markdown",
   "id": "0fe2b7f8",
   "metadata": {},
   "source": [
    "#### guests_included"
   ]
  },
  {
   "cell_type": "code",
   "execution_count": null,
   "id": "74d63689",
   "metadata": {},
   "outputs": [],
   "source": [
    "print(limites(dados_airbnb['guests_included']))\n",
    "\n",
    "# por intermédio da função que foi criada, os dados estavam contra-intuitivos\n",
    "plt.figure(figsize = (15, 5)) \n",
    "sns.barplot(x = dados_airbnb['guests_included'].value_counts().index, y = dados_airbnb['guests_included'].value_counts())"
   ]
  },
  {
   "cell_type": "markdown",
   "id": "11f75d95",
   "metadata": {},
   "source": [
    "Optarei por remover essa feature da análise. Parece que os usuários do Airbnb usam muito o valor padrão do Airbnb como 1 guests_included."
   ]
  },
  {
   "cell_type": "code",
   "execution_count": null,
   "id": "3fe85b1a",
   "metadata": {},
   "outputs": [],
   "source": [
    "dados_airbnb = dados_airbnb.drop('guests_included', axis = 1)\n",
    "dados_airbnb.shape"
   ]
  },
  {
   "cell_type": "markdown",
   "id": "a3c28cca",
   "metadata": {},
   "source": [
    "#### minimum_nights"
   ]
  },
  {
   "cell_type": "code",
   "execution_count": null,
   "id": "2b9206a2",
   "metadata": {},
   "outputs": [],
   "source": [
    "diagrama_caixa(dados_airbnb['minimum_nights'])\n",
    "grafico_barra(dados_airbnb['minimum_nights'])"
   ]
  },
  {
   "cell_type": "code",
   "execution_count": null,
   "id": "8f2f35b4",
   "metadata": {},
   "outputs": [],
   "source": [
    "dados_airbnb, linhas_removidas = excluir_outliers(dados_airbnb, 'minimum_nights')\n",
    "print('{} linhas removidas'.format(linhas_removidas))"
   ]
  },
  {
   "cell_type": "markdown",
   "id": "57238ff6",
   "metadata": {},
   "source": [
    "#### maximum_nights"
   ]
  },
  {
   "cell_type": "code",
   "execution_count": null,
   "id": "9751c98e",
   "metadata": {},
   "outputs": [],
   "source": [
    "diagrama_caixa(dados_airbnb['maximum_nights'])\n",
    "grafico_barra(dados_airbnb['maximum_nights'])"
   ]
  },
  {
   "cell_type": "markdown",
   "id": "9459b02b",
   "metadata": {},
   "source": [
    "A demonstrar em como os dados foram preenchidos (sem a maior preocupação), considerei melhor a exclusão da coluna."
   ]
  },
  {
   "cell_type": "code",
   "execution_count": null,
   "id": "beea8d2d",
   "metadata": {},
   "outputs": [],
   "source": [
    "dados_airbnb = dados_airbnb.drop('maximum_nights', axis = 1)\n",
    "dados_airbnb.shape"
   ]
  },
  {
   "cell_type": "markdown",
   "id": "8b206331",
   "metadata": {},
   "source": [
    "#### number_of_reviews"
   ]
  },
  {
   "cell_type": "code",
   "execution_count": null,
   "id": "9ba97972",
   "metadata": {},
   "outputs": [],
   "source": [
    "diagrama_caixa(dados_airbnb['number_of_reviews'])\n",
    "grafico_barra(dados_airbnb['number_of_reviews'])"
   ]
  },
  {
   "cell_type": "markdown",
   "id": "bf8a0992",
   "metadata": {},
   "source": [
    "A métrica de reviews não foi considerada significativa para o objetivo"
   ]
  },
  {
   "cell_type": "code",
   "execution_count": null,
   "id": "200ae8fd",
   "metadata": {},
   "outputs": [],
   "source": [
    "dados_airbnb = dados_airbnb.drop('number_of_reviews', axis = 1)\n",
    "dados_airbnb.shape"
   ]
  },
  {
   "cell_type": "markdown",
   "id": "993d43e8",
   "metadata": {},
   "source": [
    "### Tratamento de Colunas de Valores de Texto"
   ]
  },
  {
   "cell_type": "markdown",
   "id": "aa046307",
   "metadata": {},
   "source": [
    "#### property_type"
   ]
  },
  {
   "cell_type": "code",
   "execution_count": null,
   "id": "f57ca9d6",
   "metadata": {},
   "outputs": [],
   "source": [
    "print(dados_airbnb['property_type'].value_counts())\n",
    "\n",
    "plt.figure(figsize = (15, 5))\n",
    "grafico = sns.countplot('property_type', data = dados_airbnb)\n",
    "grafico.tick_params(axis = 'x', rotation = 90)"
   ]
  },
  {
   "cell_type": "markdown",
   "id": "caa97ffd",
   "metadata": {},
   "source": [
    "Agrupar para diminuir a quantidade de categorias"
   ]
  },
  {
   "cell_type": "code",
   "execution_count": null,
   "id": "fa81457a",
   "metadata": {},
   "outputs": [],
   "source": [
    "tabela_tipos_casa = dados_airbnb['property_type'].value_counts()\n",
    "colunas_agrupar = []\n",
    "\n",
    "for tipo in tabela_tipos_casa.index:\n",
    "    if tabela_tipos_casa[tipo] < 2000:\n",
    "        colunas_agrupar.append(tipo)\n",
    "print(colunas_agrupar)\n",
    "\n",
    "for tipo in colunas_agrupar:\n",
    "    dados_airbnb.loc[dados_airbnb['property_type'] == tipo, 'property_type'] = 'Outros'\n",
    "    \n",
    "print(dados_airbnb['property_type'].value_counts)\n",
    "plt.figure(figsize = (15, 5))\n",
    "grafico = sns.countplot('property_type', data = dados_airbnb)\n",
    "grafico.tick_params(axis = 'x', rotation = 45)"
   ]
  },
  {
   "cell_type": "markdown",
   "id": "532f92d2",
   "metadata": {},
   "source": [
    "#### room_type"
   ]
  },
  {
   "cell_type": "code",
   "execution_count": null,
   "id": "47abaa72",
   "metadata": {},
   "outputs": [],
   "source": [
    "print(dados_airbnb['room_type'].value_counts())\n",
    "\n",
    "plt.figure(figsize = (15, 5))\n",
    "grafico = sns.countplot('room_type', data = dados_airbnb)\n",
    "grafico.tick_params(axis = 'x')"
   ]
  },
  {
   "cell_type": "markdown",
   "id": "5c8e9cf9",
   "metadata": {},
   "source": [
    "#### bed_type"
   ]
  },
  {
   "cell_type": "code",
   "execution_count": null,
   "id": "47ea1512",
   "metadata": {},
   "outputs": [],
   "source": [
    "print(dados_airbnb['bed_type'].value_counts())\n",
    "\n",
    "plt.figure(figsize = (15, 5))\n",
    "grafico = sns.countplot('bed_type', data = dados_airbnb)\n",
    "grafico.tick_params(axis = 'x')"
   ]
  },
  {
   "cell_type": "markdown",
   "id": "6324f573",
   "metadata": {},
   "source": [
    "Optarei por excluir a coluna bed_type. Em testes anteriores não demonstrou impacto considerável no modelo."
   ]
  },
  {
   "cell_type": "code",
   "execution_count": null,
   "id": "45669925",
   "metadata": {},
   "outputs": [],
   "source": [
    "dados_airbnb = dados_airbnb.drop('bed_type', axis = 1)\n",
    "dados_airbnb.shape"
   ]
  },
  {
   "cell_type": "markdown",
   "id": "605ea85b",
   "metadata": {},
   "source": [
    "#### cancellation_policy"
   ]
  },
  {
   "cell_type": "code",
   "execution_count": null,
   "id": "28bf780b",
   "metadata": {},
   "outputs": [],
   "source": [
    "print(dados_airbnb['cancellation_policy'].value_counts())\n",
    "\n",
    "plt.figure(figsize = (15, 5))\n",
    "grafico = sns.countplot('cancellation_policy', data = dados_airbnb)\n",
    "grafico.tick_params(axis = 'x')\n",
    "\n",
    "# agrupando categorias de cancellation_policy\n",
    "\n",
    "tabela_cancellation = dados_airbnb['cancellation_policy'].value_counts()\n",
    "colunas_agrupar = []\n",
    "\n",
    "for tipo in tabela_cancellation.index:\n",
    "    if tabela_cancellation[tipo] < 10000:\n",
    "        colunas_agrupar.append(tipo)\n",
    "print(colunas_agrupar)\n",
    "\n",
    "for tipo in colunas_agrupar:\n",
    "    dados_airbnb.loc[dados_airbnb['cancellation_policy'] == tipo, 'cancellation_policy'] = 'strict'\n",
    "    \n",
    "print(dados_airbnb['cancellation_policy'].value_counts())\n",
    "plt.figure(figsize = (15, 5))\n",
    "grafico = sns.countplot('cancellation_policy', data = dados_airbnb)\n",
    "grafico.tick_params(axis = 'x', rotation = 45)"
   ]
  },
  {
   "cell_type": "markdown",
   "id": "583b8aa4",
   "metadata": {},
   "source": [
    "#### amenities"
   ]
  },
  {
   "cell_type": "markdown",
   "id": "cc485e1b",
   "metadata": {},
   "source": [
    "Como é grande a diversidade de amenities e, as vezes, as mesmas amenities podem de estar nomeadas de forma diferente. Melhor avaliar a quantidade de amenities como o parâmetro para o modelo."
   ]
  },
  {
   "cell_type": "code",
   "execution_count": null,
   "id": "7f7f83c9",
   "metadata": {},
   "outputs": [],
   "source": [
    "print(dados_airbnb['amenities'].iloc[1].split(',')) # igualifica todos\n",
    "print(len(dados_airbnb['amenities'].iloc[1].split(',')))\n",
    "\n",
    "dados_airbnb['n_amenities'] = dados_airbnb['amenities'].str.split(',').apply(len)"
   ]
  },
  {
   "cell_type": "code",
   "execution_count": null,
   "id": "57897c8d",
   "metadata": {},
   "outputs": [],
   "source": [
    "dados_airbnb = dados_airbnb.drop('amenities', axis = 1)\n",
    "dados_airbnb.shape"
   ]
  },
  {
   "cell_type": "markdown",
   "id": "980143e2",
   "metadata": {},
   "source": [
    "* amenities passou a ser uma coluna numérica. Desta maneira, pode receber a mesma tratativa de outras colunas numéricas."
   ]
  },
  {
   "cell_type": "code",
   "execution_count": null,
   "id": "d96e1294",
   "metadata": {},
   "outputs": [],
   "source": [
    "diagrama_caixa(dados_airbnb['n_amenities'])\n",
    "grafico_barra(dados_airbnb['n_amenities'])"
   ]
  },
  {
   "cell_type": "code",
   "execution_count": null,
   "id": "9d254970",
   "metadata": {},
   "outputs": [],
   "source": [
    "dados_airbnb, linhas_removidas = excluir_outliers(dados_airbnb, 'n_amenities')\n",
    "print('{} linhas removidas'.format(linhas_removidas))"
   ]
  },
  {
   "cell_type": "markdown",
   "id": "ac20a6b9",
   "metadata": {},
   "source": [
    "## Visualização de Mapa das Propriedades"
   ]
  },
  {
   "cell_type": "code",
   "execution_count": null,
   "id": "3f472455",
   "metadata": {},
   "outputs": [],
   "source": [
    "amostra = dados_airbnb.sample(n = 50000)\n",
    "centro_mapa = {'lat':amostra.latitude.mean(), 'lon':amostra.longitude.mean()}\n",
    "fig = px.density_mapbox(amostra, lat = 'latitude', lon = 'longitude', z = 'price', radius = 2.5,\n",
    "                       center = centro_mapa, zoom = 10,\n",
    "                       mapbox_style = 'stamen-terrain')\n",
    "fig.show()"
   ]
  },
  {
   "cell_type": "markdown",
   "id": "42dfd208",
   "metadata": {},
   "source": [
    "## Encoding"
   ]
  },
  {
   "cell_type": "markdown",
   "id": "9e0adde7",
   "metadata": {},
   "source": [
    "Ajustar as features de categoria, e booleanos para facilitar o trabalho do modelo.\n",
    " * Features de valores booleanos, vamos substituir True por 1 e False por 0.\n",
    " * Features de categorias (cujo valores das colunas são textos), será utilizado o método encoding de variáveis dummies."
   ]
  },
  {
   "cell_type": "code",
   "execution_count": null,
   "id": "5e7b2cda",
   "metadata": {},
   "outputs": [],
   "source": [
    "colunas_boolean = ['host_is_superhost', 'instant_bookable']\n",
    "dados_airbnb_codificada = dados_airbnb.copy()\n",
    "for coluna in colunas_boolean:\n",
    "    dados_airbnb_codificada.loc[dados_airbnb_codificada[coluna] == 't', coluna] = 1\n",
    "    dados_airbnb_codificada.loc[dados_airbnb_codificada[coluna] == 'f', coluna] = 0"
   ]
  },
  {
   "cell_type": "code",
   "execution_count": null,
   "id": "fc50872a",
   "metadata": {},
   "outputs": [],
   "source": [
    "colunas_categorias = ['property_type', 'room_type', 'cancellation_policy']\n",
    "dados_airbnb_codificada = pd.get_dummies(data = dados_airbnb_codificada, columns = colunas_categorias)\n",
    "display(dados_airbnb_codificada.head())"
   ]
  },
  {
   "cell_type": "markdown",
   "id": "2c85419d",
   "metadata": {},
   "source": [
    "## Modelo de Previsão"
   ]
  },
  {
   "cell_type": "markdown",
   "id": "56036e23",
   "metadata": {},
   "source": [
    "* Métricas de Avaliação"
   ]
  },
  {
   "cell_type": "code",
   "execution_count": null,
   "id": "360851a4",
   "metadata": {},
   "outputs": [],
   "source": [
    "def avaliar_modelo(nome_modelo, y_teste, previsao):\n",
    "    r2 = r2_score(y_teste, previsao)\n",
    "    RSME = np.sqrt(mean_squared_error(y_teste, previsao))\n",
    "    return f'Modelo {nome_modelo}:\\nR²:{r2:.2%}\\nRSME:{RSME:.2f}'"
   ]
  },
  {
   "cell_type": "markdown",
   "id": "23ed7eb4",
   "metadata": {},
   "source": [
    "* Escolha dos Modelos a serem testados:\n",
    " 1. RandomForest\n",
    " 2. LinearRegression\n",
    " 3. ExtraTrees"
   ]
  },
  {
   "cell_type": "code",
   "execution_count": null,
   "id": "d28b0ec9",
   "metadata": {},
   "outputs": [],
   "source": [
    "modelo_rf = RandomForestRegressor()\n",
    "modelo_lr = LinearRegression()\n",
    "modelo_et = ExtraTreesRegressor()\n",
    "\n",
    "modelos = {'RandomForest': modelo_rf,\n",
    "          'LinearRegression': modelo_lr,\n",
    "          'ExtraTrees': modelo_et}\n",
    "\n",
    "y = dados_airbnb_codificada['price']\n",
    "x = dados_airbnb_codificada.drop('price', axis = 1)"
   ]
  },
  {
   "cell_type": "markdown",
   "id": "216996eb",
   "metadata": {},
   "source": [
    "* Separar os dados em treino e teste, e treinar de modelo"
   ]
  },
  {
   "cell_type": "code",
   "execution_count": null,
   "id": "393461ca",
   "metadata": {},
   "outputs": [],
   "source": [
    "x_treino, x_teste, y_treino, y_teste = train_test_split(x, y, random_state = 10)\n",
    "\n",
    "for nome_modelo, modelo in modelos.items():\n",
    "    modelo.fit(x_treino, y_treino)\n",
    "    previsao = modelo.predict(x_teste)\n",
    "    print(avaliar_modelo(nome_modelo, y_teste, previsao))"
   ]
  },
  {
   "cell_type": "markdown",
   "id": "205c14e2",
   "metadata": {},
   "source": [
    "### Resultados do modelos\n",
    "<b>RandomForest:</b>\n",
    "   * R²:97.22%\n",
    "   * RSME:44.22\n",
    "   \n",
    "<b>LinearRegression:</b>\n",
    "   * R²:32.69%\n",
    "   * RSME:217.55\n",
    "   \n",
    "<b>ExtraTrees:</b>\n",
    "   * R²:97.51%\n",
    "   * RSME:41.87"
   ]
  },
  {
   "cell_type": "markdown",
   "id": "879d8d24",
   "metadata": {},
   "source": [
    "## Ajustes e Melhorias no modelo escolhido"
   ]
  },
  {
   "cell_type": "code",
   "execution_count": null,
   "id": "68318b89",
   "metadata": {},
   "outputs": [],
   "source": [
    "importancia_features = pd.DataFrame(modelo_et.feature_importances_, x_treino.columns)\n",
    "importancia_features = importancia_features.sort_values(by = 0, ascending = False)\n",
    "\n",
    "display(importancia_features)\n",
    "\n",
    "plt.figure(figsize = (15, 5))\n",
    "ax = sns.barplot(x = importancia_features.index, y = importancia_features[0])\n",
    "ax.tick_params(axis = 'x', rotation = 90)"
   ]
  },
  {
   "cell_type": "markdown",
   "id": "68247760",
   "metadata": {},
   "source": [
    "* Neste modelo é observada que a principal influência no valor é na quantidade de quartos. Em seguida, refere-se à localização.\n",
    "* Vale também ressaltar a importância da coluna amenities."
   ]
  }
 ],
 "metadata": {
  "kernelspec": {
   "display_name": "Python 3 (ipykernel)",
   "language": "python",
   "name": "python3"
  },
  "language_info": {
   "codemirror_mode": {
    "name": "ipython",
    "version": 3
   },
   "file_extension": ".py",
   "mimetype": "text/x-python",
   "name": "python",
   "nbconvert_exporter": "python",
   "pygments_lexer": "ipython3",
   "version": "3.8.8"
  }
 },
 "nbformat": 4,
 "nbformat_minor": 5
}
