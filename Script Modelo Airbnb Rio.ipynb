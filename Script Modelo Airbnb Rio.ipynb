{
 "cells": [
  {
   "cell_type": "markdown",
   "id": "2c2f87ff",
   "metadata": {},
   "source": [
    "# Projeto Airbnb Rio - Ferramenta de Previsão de Preço de Imóvel para pessoas comuns"
   ]
  },
  {
   "cell_type": "markdown",
   "id": "d78d0426",
   "metadata": {},
   "source": [
    "### Importando Bibliotecas e Base de Dados"
   ]
  },
  {
   "cell_type": "code",
   "execution_count": 3,
   "id": "4079537d",
   "metadata": {},
   "outputs": [],
   "source": [
    "import pandas as pd\n",
    "import pathlib\n",
    "import numpy as np\n",
    "import seaborn as sns\n",
    "import matplotlib.pyplot as plt\n",
    "import plotly.express as px\n",
    "from sklearn.metrics import r2_score, mean_squared_error\n",
    "from sklearn.linear_model import LinearRegression\n",
    "from sklearn.ensemble import RandomForestRegressor, ExtraTreesRegressor\n",
    "from sklearn.model_selection import train_test_split"
   ]
  },
  {
   "cell_type": "code",
   "execution_count": null,
   "id": "eb36333e",
   "metadata": {},
   "outputs": [],
   "source": [
    "meses = {'jan':1, 'fev';2, 'mar':3, 'abr':4, 'mai':5, 'jun':6, 'jul':7, 'ago':8, 'set':9, 'out':10, 'nov':11, 'dez':12}\n",
    "\n",
    "caminho_dados = pathlib.Path('dataset')\n",
    "\n",
    "dados_airbnb = pd.DataFrame()\n",
    "\n",
    "for arquivo in caminho_dados.iterdir():\n",
    "    nome_mes = arquivo.name[:3]\n",
    "    mes = meses[nome_mes]\n",
    "    \n",
    "    ano = arquivo.name[-8:]\n",
    "    ano = int(ano.replace('.csv', ''))\n",
    "    \n",
    "    df = pd.read_csv(caminho_dados / arquivo.name)\n",
    "    df['ano'] = ano\n",
    "    df['mes'] = mes\n",
    "    dados_airbnb = dados_airbnb.append(df)"
   ]
  },
  {
   "cell_type": "markdown",
   "id": "e62e4a68",
   "metadata": {},
   "source": [
    "### Consolidar Base de Dados\n",
    "* Como há muitas colunas, o modelo pode acavar ficando lento em demasia.\n",
    "* Uma análise rápida constata que, várias colunas podem não ser necessárias para o modelo de previsão. Por isso será excluída algumas colunas.\n",
    "* Tipos de colunas consideradas para exclusão:\n",
    "    1. IDs, Links e informações não relevantes para o modelo\n",
    "    2. Colunas repetidas ou extremamente parecidas com outra, que oferecem a mesma informação para o modelo. Ex: Data x Ano/Mês\n",
    "    3. Coluna preenchidas com texto livre. Afinal, não será rodada nenhuma análise de palavras ou algo similar.\n",
    "    4. Colunas que todos, ou quase todos, os valores sejam iguais."
   ]
  },
  {
   "cell_type": "markdown",
   "id": "4d2b9de4",
   "metadata": {},
   "source": [
    "### Após a análise qualitativa, considerando os critérios explicados acima, permanecem as seguintes colunas:"
   ]
  },
  {
   "cell_type": "code",
   "execution_count": null,
   "id": "86879cc3",
   "metadata": {},
   "outputs": [],
   "source": [
    "colunas = ['host_response_time','host_response_rate','host_is_superhost','host_listings_count','latitude','longitude',\\\n",
    "           'property_type','room_type','accommodates','bathrooms','bedrooms','beds','bed_type','amenities','price',\\\n",
    "           'security_deposit','cleaning_fee','guests_included','extra_people','minimum_nights','maximum_nights',\\\n",
    "           'number_of_reviews','review_scores_rating','review_scores_accuracy','review_scores_cleanliness',\\\n",
    "           'review_scores_checkin','review_scores_communication','review_scores_location','review_scores_value',\\\n",
    "           'instant_bookable','is_business_travel_ready','cancellation_policy','ano','mes']\n",
    "\n",
    "dados_airbnb = dados_airbnb.loc[:, colunas]"
   ]
  },
  {
   "cell_type": "markdown",
   "id": "6a3649dd",
   "metadata": {},
   "source": [
    "### Tratando valores faltantes\n",
    "* Colunas com mais de 300.000 valres NaN foram excluídas da análise\n",
    "* Para as demais colunas, como há muitos dados (mais de 900.000 linhas), foram excluídas as linhas que contém valores NaN."
   ]
  },
  {
   "cell_type": "code",
   "execution_count": null,
   "id": "9814147d",
   "metadata": {},
   "outputs": [],
   "source": [
    "for coluna in dados_airbnb:\n",
    "    if dados_airbnb[coluna].isnull().sum() > 300000:\n",
    "        dados_airbnb = dados_airbnb.drop(coluna, axis = 1)\n",
    "\n",
    "dados_airbnb = dados_airbnb.dropna()\n",
    "\n",
    "print(dados_airbnb.shape)\n",
    "print(dados_airbnb.isnull().sum())"
   ]
  },
  {
   "cell_type": "markdown",
   "id": "ecf1750d",
   "metadata": {},
   "source": [
    "### Verificar o tipo de dados em cada coluna"
   ]
  },
  {
   "cell_type": "code",
   "execution_count": null,
   "id": "aa73c805",
   "metadata": {},
   "outputs": [],
   "source": [
    "print(dados_airbnb.dtypes)\n",
    "print('-' * 60)\n",
    "print(base_airbnb.iloc[0])"
   ]
  },
  {
   "cell_type": "markdown",
   "id": "7702218c",
   "metadata": {},
   "source": [
    "### Alterar as colunas preco e extra_people de object para float"
   ]
  },
  {
   "cell_type": "code",
   "execution_count": null,
   "id": "31dc8c0f",
   "metadata": {},
   "outputs": [],
   "source": [
    "dados_airbnb['price'] = dados_airbnb['price'].str.replace('$', '')\n",
    "dados_airbnb['price'] = dados_airbnb['price'].str.replace(',', '')\n",
    "dados_airbnb['price'] = dados_airbnb['price'].astype(np.float32, copy = False)\n",
    "\n",
    "dados_airbnb['extra_people'] = dados_airbnb['extra_people'].str.replace('$', '')\n",
    "dados_airbnb['extra_people'] = dados_airbnb['extra_people'].str.replace(',', '')\n",
    "dados_airbnb['extra_people'] = dados_airbnb['extra_people'].astype(np.float32, copy = False)"
   ]
  },
  {
   "cell_type": "markdown",
   "id": "64171682",
   "metadata": {},
   "source": [
    "## Análise Exploratória e Tratar Outliers"
   ]
  },
  {
   "cell_type": "markdown",
   "id": "355f2d44",
   "metadata": {},
   "source": [
    "* Observar cada feature para:\n",
    " 1. Ver a correlação entre as features e decidir em manter as atuais features\n",
    " 2. Excluir outliers (usando como regra, valores abaixo de Q1 - 1.5x Amplitude e valores acima de Q3 + 1.5x Amplitude). Sendo que amplitude = Q3 - Q1\n",
    " 3. Confirmar se todas as features que fazem realmente sentido  ao modelo ou se deve excluir."
   ]
  },
  {
   "cell_type": "code",
   "execution_count": null,
   "id": "6fe208b3",
   "metadata": {},
   "outputs": [],
   "source": [
    "plt.figure(figsize = (15, 10))\n",
    "sns.heatmap(dados_airbnb.corr(), annot = True, cmap = 'Blues')"
   ]
  },
  {
   "cell_type": "markdown",
   "id": "b0f3fb3b",
   "metadata": {},
   "source": [
    "#### Definindo funções para análise de Outliers"
   ]
  },
  {
   "cell_type": "code",
   "execution_count": null,
   "id": "21a8fcc6",
   "metadata": {},
   "outputs": [],
   "source": [
    "def limites(coluna):\n",
    "    q1 = coluna.quantile(0.25)\n",
    "    q3 = coluna.quantile(0.75)\n",
    "    amplitude = q3 - q1\n",
    "    return q1 - 1.5 * amplitude, q3 + 1.5 * amplitude\n",
    "\n",
    "def excluir_outliers(df, nome_coluna):\n",
    "    qtde_linhas = df.shape[0]\n",
    "    limite_inferior, limite_superior = limites(df[nome_coluna])\n",
    "    df = df.loc[(df[nome_coluna] >= limite_inferior) & (df[nome_coluna] <= limite_superior),:]\n",
    "    linhas_removidas = qtde_linhas - df.shape[0]\n",
    "    return df, linhas_removidas"
   ]
  },
  {
   "cell_type": "code",
   "execution_count": null,
   "id": "6d739971",
   "metadata": {},
   "outputs": [],
   "source": [
    "def diagrama_caixa(coluna):\n",
    "    fig, (ax1, ax2) = plt.subplot(1, 2)\n",
    "    fig.set_size_inches(15, 5)\n",
    "    sns.boxplot(x = coluna, ax = ax1)\n",
    "    ax2,set_xlim(limites(coluna))\n",
    "    sns.boxplot(x = coluna, ax = ax2)\n",
    "    \n",
    "def histograma(coluna):\n",
    "    plt.figure(figsize = (15, 5))\n",
    "    sns.fistplot(coluna, hist = True)\n",
    "    \n",
    "def grafico_barra(coluna):\n",
    "    plt.figure(figsize = (15, 5))\n",
    "    ax = sns.barplot(x = coluna.value_counts().index, y = coluna.value_counts())\n",
    "    ax.set_xlim(limites(coluna))"
   ]
  },
  {
   "cell_type": "markdown",
   "id": "5881adbd",
   "metadata": {},
   "source": [
    "#### Colunas"
   ]
  },
  {
   "cell_type": "markdown",
   "id": "30bb42aa",
   "metadata": {},
   "source": [
    "##### price"
   ]
  },
  {
   "cell_type": "code",
   "execution_count": null,
   "id": "2c2ad5d9",
   "metadata": {},
   "outputs": [],
   "source": [
    "diagrama_caixa(dados_airbnb['price'])\n",
    "histograma(dados_airbnd['price'])"
   ]
  },
  {
   "cell_type": "markdown",
   "id": "3abacf4d",
   "metadata": {},
   "source": [
    "Por estar sendo elaborado um modelo para imóveis comuns, acredito que os valores acima do limite superior serão apenas de apartamentos de altíssimo luxo. O que não é o objetivo principal. Por isso, optarei por excluir esses outliers."
   ]
  },
  {
   "cell_type": "code",
   "execution_count": null,
   "id": "e61818e6",
   "metadata": {},
   "outputs": [],
   "source": [
    "dados_airbnb, linhas_removidas = excluir_outliers(dados_airbnb, 'price')\n",
    "print('{} linhas removidas'.format(linhas_removidas))"
   ]
  },
  {
   "cell_type": "code",
   "execution_count": null,
   "id": "284c825b",
   "metadata": {},
   "outputs": [],
   "source": [
    "histograma(dados_airbnb['price'])\n",
    "print(dados_airbnb.shape)"
   ]
  },
  {
   "cell_type": "markdown",
   "id": "6d02839f",
   "metadata": {},
   "source": [
    "#### extra_people"
   ]
  },
  {
   "cell_type": "code",
   "execution_count": null,
   "id": "7b2aa916",
   "metadata": {},
   "outputs": [],
   "source": [
    "diagrama_caixa(dados_airbnb['extra_people'])\n",
    "histograma(dados_airbnb['extra_people'])"
   ]
  },
  {
   "cell_type": "code",
   "execution_count": null,
   "id": "1884d7e6",
   "metadata": {},
   "outputs": [],
   "source": [
    "dados_airbnb, linhas_removidas = excluir_outliers(dados_airbnb, 'extra_people')\n",
    "print('{} linhas removidas'.format(linhas_removidas))"
   ]
  },
  {
   "cell_type": "markdown",
   "id": "b9b088c1",
   "metadata": {},
   "source": [
    "#### host_listings_count"
   ]
  },
  {
   "cell_type": "code",
   "execution_count": null,
   "id": "22d729c8",
   "metadata": {},
   "outputs": [],
   "source": [
    "diagrama_caixa(dados_airbnb['host_listings_count'])\n",
    "grafico_barra(dados_airbnb['host_listings_count'])"
   ]
  },
  {
   "cell_type": "markdown",
   "id": "4b77ad09",
   "metadata": {},
   "source": [
    "Excluirei esses outliers porquê, para o objetivo deste modelo, hosts com mais de seis imóveis no Airbnb, não são o público alvo do objetivo (podem ser imobiliários ou profissionais que ferenciam imóveis no Airbnb, por exemplo)."
   ]
  },
  {
   "cell_type": "code",
   "execution_count": null,
   "id": "47edc892",
   "metadata": {},
   "outputs": [],
   "source": [
    "dados_airbnb, linhas_removidas = excluir_outliers(dados_airbnb, 'host_listings_count')\n",
    "print('{} linhas removidas'.format(linhas_removidas))"
   ]
  },
  {
   "cell_type": "markdown",
   "id": "8b6a0640",
   "metadata": {},
   "source": [
    "#### accommodates"
   ]
  },
  {
   "cell_type": "code",
   "execution_count": null,
   "id": "c6c3b852",
   "metadata": {},
   "outputs": [],
   "source": [
    "diagrama_caixa(dados_airbnb['accommodates'])\n",
    "grafico_barra(dados_airbnb['accommodates'])"
   ]
  },
  {
   "cell_type": "code",
   "execution_count": null,
   "id": "0c203a7f",
   "metadata": {},
   "outputs": [],
   "source": [
    "dados_airbnb, linhas_removidas = excluir_outliers(dados_airbnb, 'accommodates')\n",
    "print('{} linhas removidas'.format(linhas_removidas))"
   ]
  },
  {
   "cell_type": "markdown",
   "id": "66ae6c71",
   "metadata": {},
   "source": [
    "#### bathrooms"
   ]
  },
  {
   "cell_type": "code",
   "execution_count": null,
   "id": "2eb64793",
   "metadata": {},
   "outputs": [],
   "source": [
    "diagrama_caixa(dados_airbnb['bathrooms'])\n",
    "plt.figure(figsize = (15, 5))\n",
    "sns.barplot(x = dados_airbnb['bathrooms'].value_counts().index, y = dados_airbnb['bathrooms'].value_counts())"
   ]
  },
  {
   "cell_type": "code",
   "execution_count": null,
   "id": "cd9a8b25",
   "metadata": {},
   "outputs": [],
   "source": [
    "dados_airbnb, linhas_removidas = excluir_outliers(dados_airbnb, 'bathrooms')\n",
    "print('{} linhas removidas'. format(linhas_removidas))"
   ]
  },
  {
   "cell_type": "markdown",
   "id": "43c9467f",
   "metadata": {},
   "source": [
    "#### bedrooms"
   ]
  },
  {
   "cell_type": "code",
   "execution_count": null,
   "id": "57465a8f",
   "metadata": {},
   "outputs": [],
   "source": [
    "diagrama_caixa(dados_airbnb['bedrooms'])\n",
    "grafico_barra(dados_airbnb['bedrooms'])"
   ]
  },
  {
   "cell_type": "code",
   "execution_count": null,
   "id": "6e26183c",
   "metadata": {},
   "outputs": [],
   "source": [
    "dados_airbnb, linhas_removidas = excluir_outliers(dados_airbnb, 'bedrooms')\n",
    "print('{} linhas removidas'.format(linhas_removidas))"
   ]
  },
  {
   "cell_type": "markdown",
   "id": "d3081e03",
   "metadata": {},
   "source": [
    "#### beds"
   ]
  },
  {
   "cell_type": "code",
   "execution_count": null,
   "id": "5d76ce51",
   "metadata": {},
   "outputs": [],
   "source": [
    "diagrama_caixa(dados_airbnb['beds'])\n",
    "grafico_barra(dados_airbnb['beds'])"
   ]
  },
  {
   "cell_type": "code",
   "execution_count": null,
   "id": "fe992952",
   "metadata": {},
   "outputs": [],
   "source": [
    "dados_airbnb, linhas_removidas = excluir_outliers(dados_airbnb, 'beds')\n",
    "print('{} linhas removidas'.format(linhas_removidas))"
   ]
  },
  {
   "cell_type": "markdown",
   "id": "f48e6dc2",
   "metadata": {},
   "source": [
    "#### guests_included"
   ]
  },
  {
   "cell_type": "code",
   "execution_count": null,
   "id": "996162ee",
   "metadata": {},
   "outputs": [],
   "source": [
    "print(limites(dados_airbnb['guests_included']))\n",
    "\n",
    "# por intermédio da função que foi criada, os dados estavam contra-intuitivos\n",
    "plt.figure(figsize = (15, 5)) \n",
    "sns.barplot(x = dados_airbnb['guests_included'].value_counts().index, y = dados_airbnb['guests_included'].value_counts())"
   ]
  },
  {
   "cell_type": "markdown",
   "id": "fef3df19",
   "metadata": {},
   "source": [
    "Optarei por remover essa feature da análise. Parece que os usuários do Airbnb usam muito o valor padrão do Airbnb como 1 guests_included."
   ]
  },
  {
   "cell_type": "code",
   "execution_count": null,
   "id": "99771787",
   "metadata": {},
   "outputs": [],
   "source": [
    "dados_airbnb = dados_airbnb.drop('guests_included', axis = 1)\n",
    "dados_airbnb.shape"
   ]
  },
  {
   "cell_type": "markdown",
   "id": "f0a44356",
   "metadata": {},
   "source": [
    "#### minimum_nights"
   ]
  },
  {
   "cell_type": "code",
   "execution_count": null,
   "id": "b1d40b64",
   "metadata": {},
   "outputs": [],
   "source": [
    "diagrama_caixa(dados_airbnb['minimum_nights'])\n",
    "grafico_barra(dados_airbnb['minimum_nights'])"
   ]
  },
  {
   "cell_type": "code",
   "execution_count": null,
   "id": "cf018664",
   "metadata": {},
   "outputs": [],
   "source": [
    "dados_airbnb, linhas_removidas = excluir_outliers(dados_airbnb, 'minimum_nights')\n",
    "print('{} linhas removidas'.format(linhas_removidas))"
   ]
  },
  {
   "cell_type": "markdown",
   "id": "7be53e7c",
   "metadata": {},
   "source": [
    "#### maximum_nights"
   ]
  },
  {
   "cell_type": "code",
   "execution_count": null,
   "id": "4f0ed79b",
   "metadata": {},
   "outputs": [],
   "source": [
    "diagrama_caixa(dados_airbnb['maximum_nights'])\n",
    "grafico_barra(dados_airbnb['maximum_nights'])"
   ]
  },
  {
   "cell_type": "markdown",
   "id": "d96637b2",
   "metadata": {},
   "source": [
    "A demonstrar em como os dados foram preenchidos (sem a maior preocupação), considerei melhor a exclusão da coluna."
   ]
  },
  {
   "cell_type": "code",
   "execution_count": null,
   "id": "cb209cb0",
   "metadata": {},
   "outputs": [],
   "source": [
    "dados_airbnb = dados_airbnb.drop('maximum_nights', axis = 1)\n",
    "dados_airbnb.shape"
   ]
  },
  {
   "cell_type": "markdown",
   "id": "dd027979",
   "metadata": {},
   "source": [
    "#### number_of_reviews"
   ]
  },
  {
   "cell_type": "code",
   "execution_count": null,
   "id": "b73bfaa6",
   "metadata": {},
   "outputs": [],
   "source": [
    "diagrama_caixa(dados_airbnb['number_of_reviews'])\n",
    "grafico_barra(dados_airbnb['number_of_reviews'])"
   ]
  },
  {
   "cell_type": "markdown",
   "id": "4b49d166",
   "metadata": {},
   "source": [
    "A métrica de reviews não foi considerada significativa para o objetivo"
   ]
  },
  {
   "cell_type": "code",
   "execution_count": null,
   "id": "5dd9da61",
   "metadata": {},
   "outputs": [],
   "source": [
    "dados_airbnb = dados_airbnb.drop('number_of_reviews', axis = 1)\n",
    "dados_airbnb.shape"
   ]
  },
  {
   "cell_type": "markdown",
   "id": "f145c599",
   "metadata": {},
   "source": [
    "### Tratamento de Colunas de Valores de Texto"
   ]
  },
  {
   "cell_type": "markdown",
   "id": "992b46e9",
   "metadata": {},
   "source": [
    "#### property_type"
   ]
  },
  {
   "cell_type": "code",
   "execution_count": null,
   "id": "51c1f7ef",
   "metadata": {},
   "outputs": [],
   "source": [
    "print(dados_airbnb['property_type'].value_counts())\n",
    "\n",
    "plt.figure(figsize = (15, 5))\n",
    "grafico = sns.countplot('property_type', data = dados_airbnb)\n",
    "grafico.tick_params(axis = 'x', rotation = 90)"
   ]
  },
  {
   "cell_type": "markdown",
   "id": "2ea59f54",
   "metadata": {},
   "source": [
    "Agrupar para diminuir a quantidade de categorias"
   ]
  },
  {
   "cell_type": "code",
   "execution_count": null,
   "id": "1ab87db2",
   "metadata": {},
   "outputs": [],
   "source": [
    "tabela_tipos_casa = dados_airbnb['property_type'].value_counts()\n",
    "colunas_agrupar = []\n",
    "\n",
    "for tipo in tabela_tipos_casa.index:\n",
    "    if tabela_tipo_casa[tipo] < 2000:\n",
    "        colunas_agrupar.append(tipo)\n",
    "print(colunas_agrupar)\n",
    "\n",
    "for tipo in colunas_agrupar:\n",
    "    dados_airbnb.loc[dados_airbnb['property_type'] == tipo, 'property_type'] = 'Outros'\n",
    "    \n",
    "print(dados_airbnb['property_type'].value_counts)\n",
    "plt.figure(figsize = (15, 5))\n",
    "grafico = sns.countplot('property_type', data = dados_airbnb)\n",
    "grafico.tick_params(axis = 'x', rotation = 45)"
   ]
  },
  {
   "cell_type": "markdown",
   "id": "83a155dc",
   "metadata": {},
   "source": [
    "#### room_type"
   ]
  },
  {
   "cell_type": "code",
   "execution_count": null,
   "id": "453ee9cd",
   "metadata": {},
   "outputs": [],
   "source": [
    "print(dados_airbnb['room_type'].value_counts())\n",
    "\n",
    "plt.figure(figsize = (15, 5))\n",
    "grafico = sns.countplot('room_type', data = dados_airbnb)\n",
    "grafico.tick_params(axis = 'x')"
   ]
  },
  {
   "cell_type": "markdown",
   "id": "b17a7151",
   "metadata": {},
   "source": [
    "#### bed_type"
   ]
  },
  {
   "cell_type": "code",
   "execution_count": null,
   "id": "274da154",
   "metadata": {},
   "outputs": [],
   "source": [
    "print(dados_airbnb['bed_type'].value_counts())\n",
    "\n",
    "plt.figure(figsize = (15, 5))\n",
    "grafico = sns.countplot('bed_type', data = dados_airbnb)\n",
    "grafico.tick_params(axis = 'x')\n",
    "\n",
    "# agrupando categorias de bed_type\n",
    "\n",
    "tabela_bed_type = dados_airbnb['bed_type'].value_counts()\n",
    "colunas_agrupar = []\n",
    "\n",
    "for tipo in tabela_bed_type.index:\n",
    "    if tabela_bed_type[tipo] < 10000:\n",
    "        colunas_agrupar.append(tipo)\n",
    "print(colunas_agrupar)\n",
    "\n",
    "for tipo in colunas_agrupar:\n",
    "    dados_airbnb.loc[dados_airbnb['bed_type'] == tipo, 'bed_type'] = 'Outros'\n",
    "    \n",
    "print(dados_airbnb['bed_type'].value_counts())\n",
    "plt.figure(figsize = (5, 5))\n",
    "grafico = sns.countplot('bed_type', data = dados_airbnb)\n",
    "grafico.tick_params(axis = 'x', rotation = 45)"
   ]
  },
  {
   "cell_type": "markdown",
   "id": "6c6bff0c",
   "metadata": {},
   "source": [
    "#### cancellation_policy"
   ]
  },
  {
   "cell_type": "code",
   "execution_count": null,
   "id": "93cdc30d",
   "metadata": {},
   "outputs": [],
   "source": [
    "print(dados_airbnb['cancellation_policy'].value_counts())\n",
    "\n",
    "plt.figure(figsize = (15, 5))\n",
    "grafico = sns.countplot('cancellation_policy', data = dados_airbnb)\n",
    "grafico.tick_params(axis = 'x')\n",
    "\n",
    "# agrupando categorias de cancellation_policy\n",
    "\n",
    "tabela_cancellation = dados_airbnb['cancellation_policy'].value_counts()\n",
    "colunas_agrupar = []\n",
    "\n",
    "for tipo in tabela_cancellation.index:\n",
    "    if tabela_cancellation[tipo] < 10000:\n",
    "        colunas_agrupar.append(tipo)\n",
    "print(colunas_agrupar)\n",
    "\n",
    "for tipo in colunas_agrupar:\n",
    "    dados_airbnb.loc[dados_airbnb['cancellation_policy'] == tipo, 'cancellation_policy'] = 'strict'\n",
    "    \n",
    "print(dados_airbnb['cancellation_policy'].value_counts())\n",
    "plt.figure(figsize = (15, 5))\n",
    "grafico = sns.countplot('cancellation_policy', data = dados_airbnb)\n",
    "grafico.tick_params(axis = 'x', rotation = 45)"
   ]
  },
  {
   "cell_type": "markdown",
   "id": "cf6232cd",
   "metadata": {},
   "source": [
    "#### amenities"
   ]
  },
  {
   "cell_type": "markdown",
   "id": "9f83b30b",
   "metadata": {},
   "source": [
    "Como é grande a diversidade de amenities e, as vezes, as mesmas amenities podem de estar nomeadas de forma diferente. Melhor avaliar a quantidade de amenities como o parâmetro para o modelo."
   ]
  },
  {
   "cell_type": "code",
   "execution_count": null,
   "id": "564a5781",
   "metadata": {},
   "outputs": [],
   "source": [
    "print(dados_airbnb['amenities'].loc[1].split(',')) # igualifica todos\n",
    "print(len(dados_airbnb['amenities'].iloc[1].split(',')))\n",
    "\n",
    "dados_airbnb['n_amenities'] = dados_airbnb['amenities'].str.split(',').apply(len)"
   ]
  },
  {
   "cell_type": "code",
   "execution_count": null,
   "id": "4ee9d7a5",
   "metadata": {},
   "outputs": [],
   "source": [
    "dados_airbnb = dados_airbnb.drop('amenities', axis = 1)\n",
    "dados_airbnb.shape"
   ]
  },
  {
   "cell_type": "markdown",
   "id": "0e8a2ab5",
   "metadata": {},
   "source": [
    "* amenities passou a ser uma coluna numérica. Desta maneira, pode receber a mesma tratativa de outras colunas numéricas."
   ]
  },
  {
   "cell_type": "code",
   "execution_count": null,
   "id": "333e3449",
   "metadata": {},
   "outputs": [],
   "source": [
    "diagrama_caixa(dados_airbnb['n_amenities'])\n",
    "grafico_barra(dados_airbnb['n_amenities'])"
   ]
  },
  {
   "cell_type": "code",
   "execution_count": null,
   "id": "57b6d66b",
   "metadata": {},
   "outputs": [],
   "source": [
    "dados_airbnb, linhas_removidas = excluir_outliers(dados_airbnb, 'n_amenities')\n",
    "print('{} linhas removidas'.format(linhas_removidas))"
   ]
  },
  {
   "cell_type": "markdown",
   "id": "e0012e9d",
   "metadata": {},
   "source": [
    "## Visualização de Mapa das Propriedades"
   ]
  },
  {
   "cell_type": "code",
   "execution_count": null,
   "id": "ca1d557e",
   "metadata": {},
   "outputs": [],
   "source": [
    "amostra = dados_airbnb.sample(n = 50000)\n",
    "centro_mapa = {'lat':amostra.latitude.mean(), 'lon':amostra.longitude.mean()}\n",
    "fig = px.density_mapbox(amostra, lat = 'latitude', lon = 'longitude', z = 'price', radius = 2.5,\n",
    "                       center = centro_mapa, zoom = 10,\n",
    "                       mapbox_style = 'stamen-terrain') \n",
    "fig.show()"
   ]
  },
  {
   "cell_type": "markdown",
   "id": "be139e6c",
   "metadata": {},
   "source": [
    "## Encoding"
   ]
  },
  {
   "cell_type": "code",
   "execution_count": null,
   "id": "e088fee2",
   "metadata": {},
   "outputs": [],
   "source": []
  }
 ],
 "metadata": {
  "kernelspec": {
   "display_name": "Python 3 (ipykernel)",
   "language": "python",
   "name": "python3"
  },
  "language_info": {
   "codemirror_mode": {
    "name": "ipython",
    "version": 3
   },
   "file_extension": ".py",
   "mimetype": "text/x-python",
   "name": "python",
   "nbconvert_exporter": "python",
   "pygments_lexer": "ipython3",
   "version": "3.8.8"
  }
 },
 "nbformat": 4,
 "nbformat_minor": 5
}
